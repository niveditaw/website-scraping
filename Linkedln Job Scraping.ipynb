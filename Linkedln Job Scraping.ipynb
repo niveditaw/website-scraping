{
 "cells": [
  {
   "cell_type": "code",
   "execution_count": 10,
   "id": "1bd933ab",
   "metadata": {},
   "outputs": [],
   "source": [
    "#Import Packages\n",
    "\n",
    "from selenium import webdriver\n",
    "import time\n",
    "import pandas as pd\n",
    "import os"
   ]
  },
  {
   "cell_type": "code",
   "execution_count": 11,
   "id": "df355d87",
   "metadata": {},
   "outputs": [],
   "source": [
    "#Import Packages\n",
    "\n",
    "from selenium.webdriver.support.select import Select\n",
    "from selenium.webdriver.support.ui import WebDriverWait\n",
    "from selenium.webdriver.common.by import By\n",
    "from selenium.webdriver.support import expected_conditions as EC"
   ]
  },
  {
   "cell_type": "code",
   "execution_count": 12,
   "id": "a16f8c75",
   "metadata": {},
   "outputs": [],
   "source": [
    "url1 = \"https://www.linkedin.com/jobs/search/?currentJobId=3799264399&geoId=106187582&keywords=Data%20Engineer&location=Delhi%2C%20India&origin=JOB_SEARCH_PAGE_LOCATION_AUTOCOMPLETE&refresh=true\""
   ]
  },
  {
   "cell_type": "code",
   "execution_count": 17,
   "id": "1cfd55ed",
   "metadata": {},
   "outputs": [],
   "source": [
    "#Load the web driver and get the url\n",
    "\n",
    "driver = webdriver.Chrome(executable_path=r\"C:\\Users\\DELL\\Desktop\\chromedriver.exe\")\n",
    "driver.implicitly_wait(10)\n",
    "driver.get(url1)"
   ]
  },
  {
   "cell_type": "code",
   "execution_count": 18,
   "id": "0798d105",
   "metadata": {},
   "outputs": [],
   "source": [
    "#Find number of job listings\n",
    "\n",
    "y=driver.find_elements_by_class_name('results-context-header__job-count')[0].text"
   ]
  },
  {
   "cell_type": "code",
   "execution_count": 19,
   "id": "cb6f9d92",
   "metadata": {},
   "outputs": [
    {
     "data": {
      "text/plain": [
       "str"
      ]
     },
     "execution_count": 19,
     "metadata": {},
     "output_type": "execute_result"
    }
   ],
   "source": [
    "type(y)"
   ]
  },
  {
   "cell_type": "code",
   "execution_count": 20,
   "id": "88bc174f",
   "metadata": {},
   "outputs": [],
   "source": [
    "n = pd.to_numeric(y)"
   ]
  },
  {
   "cell_type": "code",
   "execution_count": 21,
   "id": "f3e27e01",
   "metadata": {},
   "outputs": [
    {
     "data": {
      "text/plain": [
       "538"
      ]
     },
     "execution_count": 21,
     "metadata": {},
     "output_type": "execute_result"
    }
   ],
   "source": [
    "n"
   ]
  },
  {
   "cell_type": "code",
   "execution_count": null,
   "id": "2ab6bc3c",
   "metadata": {},
   "outputs": [],
   "source": [
    "i = 2\n",
    "while i <= int((n+200)/25)+1:\n",
    "    driver.execute_script(\"window.scrollTo(0, document.body.scrollHeight);\")           \n",
    "    i = i+1\n",
    "               \n",
    "    try:\n",
    "        x = driver.find_element_by_xpath(\"//button[@aria-label='See more jobs']\")\n",
    "        driver.execute_script(\"arguments[0].click();\",x)\n",
    "        time.sleep(3) \n",
    "        \n",
    "        \n",
    "    except:\n",
    "        pass\n",
    "        time.sleep(5)                                          "
   ]
  },
  {
   "cell_type": "code",
   "execution_count": null,
   "id": "3d20e4ed",
   "metadata": {},
   "outputs": [],
   "source": [
    "#Creating empty list for company name and job title \n",
    "\n",
    "companyname=[]\n",
    "titlename=[]"
   ]
  },
  {
   "cell_type": "code",
   "execution_count": null,
   "id": "a3ec7f89",
   "metadata": {},
   "outputs": [],
   "source": [
    "#Find company name and append it to the blank list\n",
    "\n",
    "try:\n",
    "    \n",
    "     for i in range(n):\n",
    "        company=driver.find_elements_by_class_name('base-search-card__subtitle')[i].text\n",
    "        companyname.append(company)\n",
    "    \n",
    "except IndexError:\n",
    "        print(\"done\")"
   ]
  },
  {
   "cell_type": "code",
   "execution_count": null,
   "id": "b9f4c6c7",
   "metadata": {},
   "outputs": [],
   "source": [
    "companyname"
   ]
  },
  {
   "cell_type": "code",
   "execution_count": null,
   "id": "7e1ded1f",
   "metadata": {},
   "outputs": [],
   "source": [
    "#Find title name and append it to the balnk list\n",
    "\n",
    "try:\n",
    "    for i in range(n):\n",
    "        \n",
    "         title=driver.find_elements_by_class_name('base-search-card__title')[i].text\n",
    "         titlename.append(title)\n",
    "        \n",
    "            \n",
    "    \n",
    "except IndexError:\n",
    "    print(\"done\")"
   ]
  },
  {
   "cell_type": "code",
   "execution_count": null,
   "id": "d491776f",
   "metadata": {},
   "outputs": [],
   "source": [
    "titlename"
   ]
  },
  {
   "cell_type": "code",
   "execution_count": null,
   "id": "b28327c1",
   "metadata": {},
   "outputs": [],
   "source": [
    "#Create dataframe for company name and title\n",
    "\n",
    "companyfinal=pd.DataFrame(companyname,columns=[\"company\"])\n"
   ]
  },
  {
   "cell_type": "code",
   "execution_count": null,
   "id": "29d4c17b",
   "metadata": {},
   "outputs": [],
   "source": [
    "titlefinal=pd.DataFrame(titlename,columns=[\"title\"])"
   ]
  },
  {
   "cell_type": "code",
   "execution_count": null,
   "id": "eccfc837",
   "metadata": {},
   "outputs": [],
   "source": [
    "#Join two lists\n",
    "\n",
    "final=companyfinal.join(titlefinal)"
   ]
  },
  {
   "cell_type": "code",
   "execution_count": null,
   "id": "083c7129",
   "metadata": {},
   "outputs": [],
   "source": [
    "final"
   ]
  },
  {
   "cell_type": "code",
   "execution_count": null,
   "id": "194147e9",
   "metadata": {},
   "outputs": [],
   "source": [
    "#save file in your directory\n",
    "\n",
    "final.to_csv('linkedin.csv')"
   ]
  },
  {
   "cell_type": "code",
   "execution_count": null,
   "id": "bb3c1f90",
   "metadata": {},
   "outputs": [],
   "source": [
    "#Find job links and append it to a list\n",
    "\n",
    "hrefList = []\n",
    "joblist = driver.find_elements_by_class_name('base-card__full-link')\n",
    "for e in joblist:\n",
    "    hrefList.append(e.get_attribute('href'))\n",
    "    \n",
    "#for href in hrefList:\n",
    "#link.append(href)"
   ]
  },
  {
   "cell_type": "code",
   "execution_count": null,
   "id": "3117fbf0",
   "metadata": {},
   "outputs": [],
   "source": [
    "hrefList"
   ]
  },
  {
   "cell_type": "code",
   "execution_count": null,
   "id": "514dac78",
   "metadata": {},
   "outputs": [],
   "source": [
    "linklist=pd.DataFrame(hrefList,columns=[\"joblinks\"])"
   ]
  },
  {
   "cell_type": "code",
   "execution_count": null,
   "id": "be692c23",
   "metadata": {},
   "outputs": [],
   "source": [
    "linklist.to_csv('linkedinlinks.csv')"
   ]
  },
  {
   "cell_type": "code",
   "execution_count": null,
   "id": "3254e07c",
   "metadata": {},
   "outputs": [],
   "source": [
    "#Close the driver\n",
    "\n",
    "driver.close()"
   ]
  },
  {
   "cell_type": "code",
   "execution_count": null,
   "id": "9145ae5f",
   "metadata": {},
   "outputs": [],
   "source": []
  }
 ],
 "metadata": {
  "kernelspec": {
   "display_name": "Python 3 (ipykernel)",
   "language": "python",
   "name": "python3"
  },
  "language_info": {
   "codemirror_mode": {
    "name": "ipython",
    "version": 3
   },
   "file_extension": ".py",
   "mimetype": "text/x-python",
   "name": "python",
   "nbconvert_exporter": "python",
   "pygments_lexer": "ipython3",
   "version": "3.10.9"
  }
 },
 "nbformat": 4,
 "nbformat_minor": 5
}
